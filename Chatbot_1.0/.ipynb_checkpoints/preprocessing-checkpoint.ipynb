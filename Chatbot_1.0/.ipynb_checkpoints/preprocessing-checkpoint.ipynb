{
 "cells": [
  {
   "cell_type": "markdown",
   "metadata": {},
   "source": [
    "------------------------------- *IMPORTING REQUIRED LIBRARIES* -------------------------------"
   ]
  },
  {
   "cell_type": "code",
   "execution_count": null,
   "metadata": {},
   "outputs": [],
   "source": [
    "import numpy as np\n",
    "import pandas as pd\n",
    "import re\n",
    "import spacy\n",
    "import time\n",
    "import json\n",
    "from tqdm import tqdm"
   ]
  },
  {
   "cell_type": "code",
   "execution_count": null,
   "metadata": {},
   "outputs": [],
   "source": [
    "nlp = spacy.load('en_core_web_sm')"
   ]
  },
  {
   "cell_type": "markdown",
   "metadata": {},
   "source": [
    "------------------------------- *IMPORTING DATASET* -------------------------------"
   ]
  },
  {
   "cell_type": "code",
   "execution_count": null,
   "metadata": {},
   "outputs": [],
   "source": [
    "csv_dataset = pd.read_csv(\"dataset_combined/combined_dataset_csv.csv\")\n",
    "dataset = csv_dataset.iloc[400:1000000,1:].values"
   ]
  },
  {
   "cell_type": "code",
   "execution_count": null,
   "metadata": {},
   "outputs": [],
   "source": [
    "# dataset[780000]"
   ]
  },
  {
   "cell_type": "code",
   "execution_count": null,
   "metadata": {},
   "outputs": [],
   "source": [
    "prev = []\n",
    "my_list = []\n",
    "q_a = {'question':'answer'}\n",
    "question = []\n",
    "answer = []\n",
    "q = \"\"\n",
    "a = \"\"\n",
    "previd=dataset[0][0]\n",
    "start=0\n",
    "i = int(0)\n",
    "\n",
    "row_count = dataset.shape[0]"
   ]
  },
  {
   "cell_type": "markdown",
   "metadata": {},
   "source": [
    "------------------------------- *SEGREGATION INTO QUESTIONS AND ANSWERS* -------------------------------"
   ]
  },
  {
   "cell_type": "code",
   "execution_count": null,
   "metadata": {},
   "outputs": [],
   "source": [
    "for x in tqdm(dataset):\n",
    "    if i < row_count and previd != dataset[i][0]:\n",
    "        for j in range(start,i):\n",
    "            from1 = dataset[j][2]\n",
    "            if (j==start) and dataset[j][3] == dataset[j][3]:\n",
    "                break\n",
    "            while (j < row_count) and (dataset[j][3] != dataset[j][3] or dataset[j][3] != from1):\n",
    "                q = q + str(dataset[j][4])\n",
    "                j = j+1\n",
    "\n",
    "            while j < row_count and dataset[j][3] == from1 :#tofrom\n",
    "                if a == \"\":\n",
    "                    a = str(dataset[j][4])\n",
    "                else:\n",
    "                    a = a + \"\\n\" + str(dataset[j][4])\n",
    "                j=j+1\n",
    "                \n",
    "            if(a != \"\"):\n",
    "                answer.append(a)\n",
    "\n",
    "            if(a != \"\" and q != \"\"):\n",
    "                question.append(q)\n",
    "            a=\"\"\n",
    "            q=\"\"\n",
    "            if j >= i:\n",
    "                break\n",
    "        previd = dataset[i][0]\n",
    "        start = i\n",
    "    i=i+1"
   ]
  },
  {
   "cell_type": "markdown",
   "metadata": {},
   "source": [
    "------------------------------- *NATURAL LANGUAGE PROCESSING TO CLEAN QUESTIONS* -------------------------------"
   ]
  },
  {
   "cell_type": "code",
   "execution_count": null,
   "metadata": {},
   "outputs": [],
   "source": [
    "# function using regex to remove contractions in the questions\n",
    "def clean_text(text):\n",
    "    text = text.lower()\n",
    "    text = re.sub(r\"i'm\", \"i am\", text)\n",
    "    text = re.sub(r\"he's\", \"he is\", text)\n",
    "    text = re.sub(r\"she's\", \"she is\", text)\n",
    "    text = re.sub(r\"that's\", \"that is\", text)\n",
    "    text = re.sub(r\"what's\", \"what is\", text)\n",
    "    text = re.sub(r\"where's\", \"where is\", text)\n",
    "    text = re.sub(r\"\\'ll\", \" will\", text)\n",
    "    text = re.sub(r\"\\'ve\", \" have\", text)\n",
    "    text = re.sub(r\"\\'re\", \" are\", text)\n",
    "    text = re.sub(r\"\\'d\", \" would\", text)\n",
    "    text = re.sub(r\"won't\", \"will not\", text)\n",
    "    text = re.sub(r\"can't\", \"cannot\", text)\n",
    "    return text"
   ]
  },
  {
   "cell_type": "code",
   "execution_count": null,
   "metadata": {},
   "outputs": [],
   "source": [
    "# function to convert list to a string\n",
    "def listToString(s):\n",
    "    str1 = \"\"  \n",
    "    for ele in s:  \n",
    "        str1 += ele  \n",
    "    return str1  "
   ]
  },
  {
   "cell_type": "code",
   "execution_count": null,
   "metadata": {},
   "outputs": [],
   "source": [
    "# removing STOP-WORDS from questions\n",
    "for i in range(len(question)):\n",
    "    ques = []\n",
    "    temp = clean_text(question[i].lower())\n",
    "    for token in temp.split(' '):\n",
    "        t = str(token)\n",
    "        if nlp.vocab[t].is_stop:\n",
    "            pass\n",
    "        else:\n",
    "            ques.append(t)\n",
    "    ques_list = ' '.join(ques)\n",
    "    question[i] = listToString(ques_list)"
   ]
  },
  {
   "cell_type": "code",
   "execution_count": null,
   "metadata": {},
   "outputs": [],
   "source": [
    "# lemmatization of questions\n",
    "for i in range(len(question)):\n",
    "    ques2 = []\n",
    "    temp2 = nlp(question[i])\n",
    "    for token2 in temp2:\n",
    "        \n",
    "        ques2.append(token2.lemma_)\n",
    "    ques_list = ' '.join(ques2)\n",
    "    question[i] = listToString(ques_list)"
   ]
  },
  {
   "cell_type": "code",
   "execution_count": null,
   "metadata": {},
   "outputs": [],
   "source": [
    "# exporting questions and answers as json format to be fed to the model\n",
    "with open('data10lac/data.json', 'w') as outfile:\n",
    "    x = json.dump([{'message': ques, 'response': ans} for ques, ans in zip(question, answer)], outfile)"
   ]
  },
  {
   "cell_type": "code",
   "execution_count": null,
   "metadata": {},
   "outputs": [],
   "source": []
  },
  {
   "cell_type": "code",
   "execution_count": null,
   "metadata": {},
   "outputs": [],
   "source": []
  },
  {
   "cell_type": "code",
   "execution_count": null,
   "metadata": {},
   "outputs": [],
   "source": []
  },
  {
   "cell_type": "code",
   "execution_count": null,
   "metadata": {},
   "outputs": [],
   "source": []
  },
  {
   "cell_type": "code",
   "execution_count": null,
   "metadata": {},
   "outputs": [],
   "source": []
  },
  {
   "cell_type": "code",
   "execution_count": null,
   "metadata": {},
   "outputs": [],
   "source": []
  },
  {
   "cell_type": "code",
   "execution_count": null,
   "metadata": {},
   "outputs": [],
   "source": []
  },
  {
   "cell_type": "code",
   "execution_count": null,
   "metadata": {},
   "outputs": [],
   "source": []
  },
  {
   "cell_type": "code",
   "execution_count": null,
   "metadata": {},
   "outputs": [],
   "source": []
  },
  {
   "cell_type": "code",
   "execution_count": null,
   "metadata": {},
   "outputs": [],
   "source": []
  },
  {
   "cell_type": "code",
   "execution_count": null,
   "metadata": {},
   "outputs": [],
   "source": []
  },
  {
   "cell_type": "code",
   "execution_count": null,
   "metadata": {},
   "outputs": [],
   "source": []
  }
 ],
 "metadata": {
  "kernelspec": {
   "display_name": "Python 3",
   "language": "python",
   "name": "python3"
  },
  "language_info": {
   "codemirror_mode": {
    "name": "ipython",
    "version": 3
   },
   "file_extension": ".py",
   "mimetype": "text/x-python",
   "name": "python",
   "nbconvert_exporter": "python",
   "pygments_lexer": "ipython3",
   "version": "3.7.5"
  }
 },
 "nbformat": 4,
 "nbformat_minor": 2
}
