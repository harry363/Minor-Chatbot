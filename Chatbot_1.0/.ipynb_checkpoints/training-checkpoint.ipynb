{
 "cells": [
  {
   "cell_type": "code",
   "execution_count": null,
   "metadata": {},
   "outputs": [],
   "source": [
    "# _____TF-IDF libraries_____\n",
    "from sklearn.feature_extraction.text import CountVectorizer\n",
    "from sklearn.metrics.pairwise import cosine_similarity\n",
    "from sklearn.feature_extraction.text import TfidfVectorizer\n",
    "import numpy as np"
   ]
  },
  {
   "cell_type": "code",
   "execution_count": null,
   "metadata": {},
   "outputs": [],
   "source": [
    "# _____helper Libraries_____\n",
    "import pickle\n",
    "import csv\n",
    "import json\n",
    "import timeit\n",
    "import random"
   ]
  },
  {
   "cell_type": "code",
   "execution_count": null,
   "metadata": {},
   "outputs": [],
   "source": [
    "def train_chat(json_file_path, tfidf_vectorizer_pikle_path , tfidf_matrix_train_pikle_path):\n",
    "        \n",
    "        i = 0\n",
    "        sentences = []\n",
    "        sentences.append(\" No you.\")\n",
    "        sentences.append(\" No you.\")\n",
    "\n",
    "        start = timeit.default_timer()\n",
    "\n",
    "        with open(json_file_path, \"r\") as sentences_file:\n",
    "            reader = json.load(sentences_file)\n",
    "            for row in reader:\n",
    "                sentences.append(row[\"message\"])\n",
    "                i += 1\n",
    "\n",
    "        tfidf_vectorizer = TfidfVectorizer()\n",
    "        # find tfidf score with normalization\n",
    "        tfidf_matrix_train = tfidf_vectorizer.fit_transform(sentences)\n",
    "        \n",
    "        stop = timeit.default_timer()\n",
    "        print (\"training time took was : \")\n",
    "        print (stop - start)\n",
    "\n",
    "        f = open(tfidf_vectorizer_pikle_path, 'wb')\n",
    "        pickle.dump(tfidf_vectorizer, f)\n",
    "        f.close()\n",
    "\n",
    "        f = open(tfidf_matrix_train_pikle_path, 'wb')\n",
    "        pickle.dump(tfidf_matrix_train, f)\n",
    "        f.close()\n",
    "\n",
    "        return tfidf_vectorizer , tfidf_matrix_train"
   ]
  },
  {
   "cell_type": "code",
   "execution_count": null,
   "metadata": {},
   "outputs": [],
   "source": [
    "file = \"data/data.json\"\n",
    "tfidf_vectorizer_pikle_path = \"data/previous_tfidf_vectorizer.pickle\"\n",
    "tfidf_matrix_train_path = \"data/previous_tfidf_matrix_train.pickle\""
   ]
  },
  {
   "cell_type": "code",
   "execution_count": null,
   "metadata": {},
   "outputs": [],
   "source": [
    "train_chat(file, tfidf_vectorizer_pikle_path , tfidf_matrix_train_path)"
   ]
  },
  {
   "cell_type": "code",
   "execution_count": null,
   "metadata": {},
   "outputs": [],
   "source": []
  },
  {
   "cell_type": "code",
   "execution_count": null,
   "metadata": {},
   "outputs": [],
   "source": []
  },
  {
   "cell_type": "code",
   "execution_count": null,
   "metadata": {},
   "outputs": [],
   "source": []
  },
  {
   "cell_type": "code",
   "execution_count": null,
   "metadata": {},
   "outputs": [],
   "source": []
  },
  {
   "cell_type": "code",
   "execution_count": null,
   "metadata": {},
   "outputs": [],
   "source": []
  },
  {
   "cell_type": "code",
   "execution_count": null,
   "metadata": {},
   "outputs": [],
   "source": []
  },
  {
   "cell_type": "code",
   "execution_count": null,
   "metadata": {},
   "outputs": [],
   "source": []
  },
  {
   "cell_type": "code",
   "execution_count": null,
   "metadata": {},
   "outputs": [],
   "source": []
  }
 ],
 "metadata": {
  "kernelspec": {
   "display_name": "Python 3",
   "language": "python",
   "name": "python3"
  },
  "language_info": {
   "codemirror_mode": {
    "name": "ipython",
    "version": 3
   },
   "file_extension": ".py",
   "mimetype": "text/x-python",
   "name": "python",
   "nbconvert_exporter": "python",
   "pygments_lexer": "ipython3",
   "version": "3.7.5"
  }
 },
 "nbformat": 4,
 "nbformat_minor": 2
}
